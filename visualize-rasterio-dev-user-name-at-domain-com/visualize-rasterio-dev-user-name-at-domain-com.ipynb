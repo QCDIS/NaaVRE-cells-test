{
    "metadata": {
        "kernelspec": {
            "display_name": "python3",
            "language": "python3",
            "name": "python3"
        },
        "language_info": {
            "codemirror_mode": {
                "name": "ipython",
                "version": 3
            },
            "file_extension": ".py",
            "mimetype": "text/x-python",
            "name": "python",
            "nbconvert_exporter": "python",
            "pygments_lexer": "ipython3",
            "version": "3.11.7"
        }
    },
    "nbformat_minor": 5,
    "nbformat": 4,
    "cells": [
        {
            "cell_type": "code",
            "source": "#visualize_rasterio\n\nimport os \nimport rasterio\nfrom rasterio.plot import show\nfrom matplotlib import pyplot\nimport numpy as np\nfrom rasterio.plot import show\nfrom rasterio.plot import show_hist\n\nS6_done\n\ngeo_tiff = os.path.join(conf_local_path_geotiff, 'geotiff_TILE_000_BAND_perc_95_normalized_height.tif')\nsrc = rasterio.open(geo_tiff)\nshow(src)\nfig, ax = pyplot.subplots(1, figsize=(30, 30))\nshow((src, 1), interpolation='none', ax=ax)\nshow((src, 1), contour=True, ax=ax)\npyplot.show()\nshow_hist(src, bins=50, lw=0.0, stacked=False, alpha=0.3, histtype='stepfilled', title=\"Histogram\")\npyplot.show()",
            "metadata": {},
            "execution_count": 2,
            "outputs": [
                {
                    "ename": "NameError",
                    "evalue": "name 'conf_local_path_geotiff' is not defined",
                    "output_type": "error",
                    "traceback": [
                        "\u001b[0;31m---------------------------------------------------------------------------\u001b[0m",
                        "\u001b[0;31mNameError\u001b[0m                                 Traceback (most recent call last)",
                        "Cell \u001b[0;32mIn[2], line 11\u001b[0m\n\u001b[1;32m      8\u001b[0m \u001b[38;5;28;01mfrom\u001b[39;00m \u001b[38;5;21;01mrasterio\u001b[39;00m\u001b[38;5;21;01m.\u001b[39;00m\u001b[38;5;21;01mplot\u001b[39;00m \u001b[38;5;28;01mimport\u001b[39;00m show\n\u001b[1;32m      9\u001b[0m \u001b[38;5;28;01mfrom\u001b[39;00m \u001b[38;5;21;01mrasterio\u001b[39;00m\u001b[38;5;21;01m.\u001b[39;00m\u001b[38;5;21;01mplot\u001b[39;00m \u001b[38;5;28;01mimport\u001b[39;00m show_hist\n\u001b[0;32m---> 11\u001b[0m geo_tiff \u001b[38;5;241m=\u001b[39m os\u001b[38;5;241m.\u001b[39mpath\u001b[38;5;241m.\u001b[39mjoin(\u001b[43mconf_local_path_geotiff\u001b[49m, \u001b[38;5;124m'\u001b[39m\u001b[38;5;124mgeotiff_TILE_000_BAND_perc_95_normalized_height.tif\u001b[39m\u001b[38;5;124m'\u001b[39m)\n\u001b[1;32m     12\u001b[0m src \u001b[38;5;241m=\u001b[39m rasterio\u001b[38;5;241m.\u001b[39mopen(geo_tiff)\n\u001b[1;32m     13\u001b[0m show(src)\n",
                        "\u001b[0;31mNameError\u001b[0m: name 'conf_local_path_geotiff' is not defined"
                    ]
                }
            ],
            "id": "0dda61ce-ae9a-4d73-bf5b-b6b929d5d023"
        }
    ]
}