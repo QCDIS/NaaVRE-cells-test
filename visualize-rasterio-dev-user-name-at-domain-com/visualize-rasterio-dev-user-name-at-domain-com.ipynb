{
    "cells": [
        {
            "cell_type": "code",
            "execution_count": null,
            "id": "8f484370-6ad0-4fb0-9e94-23810984d17c",
            "metadata": {},
            "outputs": [],
            "source": "#visualize_rasterio\n\nimport os \nimport rasterio\nfrom rasterio.plot import show\nfrom matplotlib import pyplot\nimport numpy as np\nfrom rasterio.plot import show\nfrom rasterio.plot import show_hist\n\ndownload_done\n\ngeo_tiff = os.path.join(conf_local_path_geotiff, 'geotiff_TILE_000_BAND_perc_95_normalized_height.tif')\n# geo_tiff = os.path.join('geotiff_TILE_000_BAND_perc_95_normalized_height_1.tif')\nsrc = rasterio.open(geo_tiff)\nshow(src)\nfig, ax = pyplot.subplots(1, figsize=(30, 30))\nshow((src, 1), interpolation='none', ax=ax)\nshow((src, 1), contour=True, ax=ax)\npyplot.show()\nshow_hist(src, bins=50, lw=0.0, stacked=False, alpha=0.3, histtype='stepfilled', title=\"Histogram\")\npyplot.show()\nsrc.close()"
        }
    ],
    "metadata": {},
    "nbformat": 4,
    "nbformat_minor": 5
}